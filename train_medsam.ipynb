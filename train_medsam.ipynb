{
 "cells": [
  {
   "cell_type": "code",
   "execution_count": null,
   "outputs": [],
   "source": [
    "!pip install numpy==1.23.5"
   ],
   "metadata": {
    "collapsed": false
   },
   "id": "e83d5d382bbf8d41"
  },
  {
   "cell_type": "code",
   "execution_count": 3,
   "id": "initial_id",
   "metadata": {
    "collapsed": true,
    "ExecuteTime": {
     "end_time": "2024-05-14T09:22:35.607418515Z",
     "start_time": "2024-05-14T09:22:32.258414044Z"
    }
   },
   "outputs": [
    {
     "name": "stdout",
     "output_type": "stream",
     "text": [
      "/home/hknight/.conda/envs/cpv_project/lib/python3.8/site-packages/torch/__init__.py:747: UserWarning: torch.set_default_tensor_type() is deprecated as of PyTorch 2.1, please use torch.set_default_dtype() and torch.set_default_device() as alternatives. (Triggered internally at ../torch/csrc/tensor/python_tensor.cpp:431.)\r\n",
      "  _C._set_default_tensor_type(t)\r\n",
      "loading annotations into memory...\r\n",
      "Traceback (most recent call last):\r\n",
      "  File \"train.py\", line 504, in <module>\r\n",
      "    train()\r\n",
      "  File \"train.py\", line 176, in train\r\n",
      "    dataset = COCODetection(image_path=cfg.dataset.train_images,\r\n",
      "  File \"/home/hknight/PycharmProjects/yolact_train/data/coco.py\", line 74, in __init__\r\n",
      "    self.coco = COCO(info_file)\r\n",
      "  File \"/home/hknight/.conda/envs/cpv_project/lib/python3.8/site-packages/pycocotools/coco.py\", line 81, in __init__\r\n",
      "    with open(annotation_file, 'r') as f:\r\n",
      "FileNotFoundError: [Errno 2] No such file or directory: './data/coco/annotations/instances_train2017.json'\r\n"
     ]
    }
   ],
   "source": [
    "!python train.py --config=yolact_base_config --start_iter=-1 --num_workers 0 --batch_size=1 --resume=weights/yolact_base_0_176_interrupt.pth"
   ]
  },
  {
   "cell_type": "code",
   "execution_count": 2,
   "outputs": [
    {
     "name": "stdout",
     "output_type": "stream",
     "text": [
      "Collecting pycocotools\r\n",
      "  Downloading pycocotools-2.0.7-cp38-cp38-manylinux_2_17_x86_64.manylinux2014_x86_64.whl.metadata (1.1 kB)\r\n",
      "Requirement already satisfied: matplotlib>=2.1.0 in /home/hknight/.conda/envs/cpv_project/lib/python3.8/site-packages (from pycocotools) (3.7.5)\r\n",
      "Requirement already satisfied: numpy in /home/hknight/.conda/envs/cpv_project/lib/python3.8/site-packages (from pycocotools) (1.24.3)\r\n",
      "Requirement already satisfied: contourpy>=1.0.1 in /home/hknight/.conda/envs/cpv_project/lib/python3.8/site-packages (from matplotlib>=2.1.0->pycocotools) (1.1.1)\r\n",
      "Requirement already satisfied: cycler>=0.10 in /home/hknight/.conda/envs/cpv_project/lib/python3.8/site-packages (from matplotlib>=2.1.0->pycocotools) (0.12.1)\r\n",
      "Requirement already satisfied: fonttools>=4.22.0 in /home/hknight/.conda/envs/cpv_project/lib/python3.8/site-packages (from matplotlib>=2.1.0->pycocotools) (4.51.0)\r\n",
      "Requirement already satisfied: kiwisolver>=1.0.1 in /home/hknight/.conda/envs/cpv_project/lib/python3.8/site-packages (from matplotlib>=2.1.0->pycocotools) (1.4.5)\r\n",
      "Requirement already satisfied: packaging>=20.0 in /home/hknight/.conda/envs/cpv_project/lib/python3.8/site-packages (from matplotlib>=2.1.0->pycocotools) (23.2)\r\n",
      "Requirement already satisfied: pillow>=6.2.0 in /home/hknight/.conda/envs/cpv_project/lib/python3.8/site-packages (from matplotlib>=2.1.0->pycocotools) (10.3.0)\r\n",
      "Requirement already satisfied: pyparsing>=2.3.1 in /home/hknight/.conda/envs/cpv_project/lib/python3.8/site-packages (from matplotlib>=2.1.0->pycocotools) (3.1.2)\r\n",
      "Requirement already satisfied: python-dateutil>=2.7 in /home/hknight/.conda/envs/cpv_project/lib/python3.8/site-packages (from matplotlib>=2.1.0->pycocotools) (2.8.2)\r\n",
      "Requirement already satisfied: importlib-resources>=3.2.0 in /home/hknight/.conda/envs/cpv_project/lib/python3.8/site-packages (from matplotlib>=2.1.0->pycocotools) (6.1.1)\r\n",
      "Requirement already satisfied: zipp>=3.1.0 in /home/hknight/.conda/envs/cpv_project/lib/python3.8/site-packages (from importlib-resources>=3.2.0->matplotlib>=2.1.0->pycocotools) (3.17.0)\r\n",
      "Requirement already satisfied: six>=1.5 in /home/hknight/.conda/envs/cpv_project/lib/python3.8/site-packages (from python-dateutil>=2.7->matplotlib>=2.1.0->pycocotools) (1.16.0)\r\n",
      "Downloading pycocotools-2.0.7-cp38-cp38-manylinux_2_17_x86_64.manylinux2014_x86_64.whl (439 kB)\r\n",
      "\u001B[2K   \u001B[90m━━━━━━━━━━━━━━━━━━━━━━━━━━━━━━━━━━━━━━━━\u001B[0m \u001B[32m439.5/439.5 kB\u001B[0m \u001B[31m3.4 MB/s\u001B[0m eta \u001B[36m0:00:00\u001B[0ma \u001B[36m0:00:01\u001B[0m\r\n",
      "\u001B[?25hInstalling collected packages: pycocotools\r\n",
      "Successfully installed pycocotools-2.0.7\r\n"
     ]
    }
   ],
   "source": [],
   "metadata": {
    "collapsed": false,
    "ExecuteTime": {
     "end_time": "2024-05-14T09:22:20.191769077Z",
     "start_time": "2024-05-14T09:22:17.531931942Z"
    }
   },
   "id": "3fd4a26a71ba2ba2"
  },
  {
   "cell_type": "code",
   "execution_count": null,
   "outputs": [],
   "source": [],
   "metadata": {
    "collapsed": false
   },
   "id": "a06b7e2c36aea960"
  }
 ],
 "metadata": {
  "kernelspec": {
   "display_name": "Python 3",
   "language": "python",
   "name": "python3"
  },
  "language_info": {
   "codemirror_mode": {
    "name": "ipython",
    "version": 2
   },
   "file_extension": ".py",
   "mimetype": "text/x-python",
   "name": "python",
   "nbconvert_exporter": "python",
   "pygments_lexer": "ipython2",
   "version": "2.7.6"
  }
 },
 "nbformat": 4,
 "nbformat_minor": 5
}
